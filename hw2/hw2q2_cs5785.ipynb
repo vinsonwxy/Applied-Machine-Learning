{
 "cells": [
  {
   "cell_type": "code",
   "execution_count": 35,
   "metadata": {},
   "outputs": [
    {
     "name": "stdout",
     "output_type": "stream",
     "text": [
      "Number of dishes: 39774\n",
      "Types of cuisine: 20\n",
      "Number of unique ingredients: 6714\n"
     ]
    }
   ],
   "source": [
    "# 2. What's Cooking\n",
    "# (b)\n",
    "\n",
    "import pandas as pd\n",
    "import numpy as np\n",
    "from sklearn import cross_validation, naive_bayes, linear_model\n",
    "\n",
    "df_train = pd.read_json(\"/Desktop/train.json\")\n",
    "df_test = pd.read_json(\"/Desktop/test.json\")\n",
    "print(\"Number of dishes: \" + str(df_train.shape[0]))\n",
    "\n",
    "cuisine = df_train.cuisine.unique()\n",
    "print(\"Types of cuisine: \" + str(cuisine.shape[0]))\n",
    "\n",
    "ing = []\n",
    "for i in range(39774):\n",
    "    ing += df_train.ingredients.iloc[i]\n",
    "ing_unique = np.unique(np.array(ing))\n",
    "print(\"Number of unique ingredients: \" + str(ing_unique.size))"
   ]
  },
  {
   "cell_type": "code",
   "execution_count": 24,
   "metadata": {},
   "outputs": [
    {
     "data": {
      "text/plain": [
       "(39774, 6714)"
      ]
     },
     "execution_count": 24,
     "metadata": {},
     "output_type": "execute_result"
    }
   ],
   "source": [
    "# (c)\n",
    "\n",
    "a = []\n",
    "for i in range(39774):\n",
    "    b = np.zeros(6714)\n",
    "    for g in df_train.ingredients.iloc[i]:\n",
    "        index = np.where(ing_unique == g)[0][0]\n",
    "        b[index] = 1\n",
    "    a.append(b)\n",
    "X_train = np.array(a)\n",
    "X_train.shape"
   ]
  },
  {
   "cell_type": "code",
   "execution_count": 26,
   "metadata": {},
   "outputs": [
    {
     "data": {
      "text/plain": [
       "(9944, 6714)"
      ]
     },
     "execution_count": 26,
     "metadata": {},
     "output_type": "execute_result"
    }
   ],
   "source": [
    "a = []\n",
    "for i in range(df_test.shape[0]):\n",
    "    b = np.zeros(6714)\n",
    "    for g in df_test.ingredients.iloc[i]:\n",
    "        index = np.where(ing_unique == g)[0]\n",
    "        b[index] = 1\n",
    "    a.append(b)\n",
    "X_test = np.array(a)\n",
    "X_test.shape"
   ]
  },
  {
   "cell_type": "code",
   "execution_count": 38,
   "metadata": {},
   "outputs": [
    {
     "name": "stdout",
     "output_type": "stream",
     "text": [
      "New fold\n",
      "Train on [    0     3     4 ..., 39771 39772 39773]\n",
      "Test on [    1     2     9 ..., 39761 39762 39770]\n",
      "0.36815507618 0.690073917635\n",
      "New fold\n",
      "Train on [    0     1     2 ..., 39771 39772 39773]\n",
      "Test on [    3     6     8 ..., 39767 39768 39769]\n",
      "0.376904510484 0.680268517122\n",
      "New fold\n",
      "Train on [    1     2     3 ..., 39768 39769 39770]\n",
      "Test on [    0     4     5 ..., 39771 39772 39773]\n",
      "0.397043294615 0.682455875698\n",
      "Average accuracy using Gaussian prior is: 0.380700960426\n",
      "Average accuracy using Bernoulli prior is: 0.684266103485\n"
     ]
    }
   ],
   "source": [
    "# (d)\n",
    "\n",
    "Y_train = df_train.cuisine.values\n",
    "scores_gaussian, scores_bernoulli = [], []\n",
    "for train, test in cross_validation.KFold(len(Y_train), n_folds = 3, shuffle = True):\n",
    "    print(\"New fold\")\n",
    "    print(\"Train on\", train)\n",
    "    print(\"Test on\", test)\n",
    "    cls_gaussian = naive_bayes.GaussianNB()\n",
    "    score_gaussian = cls_gaussian.fit(X_train[train], Y_train[train]).score(X_train[test], Y_train[test])\n",
    "    cls_bernoulli = naive_bayes.BernoulliNB()\n",
    "    score_bernoulli = cls_bernoulli.fit(X_train[train], Y_train[train]).score(X_train[test], Y_train[test])\n",
    "    scores_gaussian.append(score_gaussian)\n",
    "    scores_bernoulli.append(score_bernoulli)\n",
    "    print(score_gaussian, score_bernoulli)\n",
    "print(\"Average accuracy using Gaussian prior is:\", np.mean(np.array(scores_gaussian)))\n",
    "print(\"Average accuracy using Bernoulli prior is:\", np.mean(np.array(scores_bernoulli)))"
   ]
  },
  {
   "cell_type": "code",
   "execution_count": 39,
   "metadata": {},
   "outputs": [
    {
     "name": "stdout",
     "output_type": "stream",
     "text": [
      "New fold\n",
      "Train on [    1     3     6 ..., 39771 39772 39773]\n",
      "Test on [    0     2     4 ..., 39766 39768 39770]\n",
      "0.777869965304\n",
      "New fold\n",
      "Train on [    0     1     2 ..., 39771 39772 39773]\n",
      "Test on [    3     6     7 ..., 39756 39762 39764]\n",
      "0.773872378941\n",
      "New fold\n",
      "Train on [    0     2     3 ..., 39766 39768 39770]\n",
      "Test on [    1    10    19 ..., 39771 39772 39773]\n",
      "0.773344395836\n",
      "Average accuracy using logistic regression is:  0.77502891336\n"
     ]
    }
   ],
   "source": [
    "# (f)\n",
    "\n",
    "scores_logistic = []\n",
    "for train, test in cross_validation.KFold(len(Y_train), n_folds = 3, shuffle = True):\n",
    "    print(\"New fold\")\n",
    "    print(\"Train on\", train)\n",
    "    print(\"Test on\", test)\n",
    "    cls_logistic = linear_model.LogisticRegression()\n",
    "    score_logistic = cls_logistic.fit(X_train[train], Y_train[train]).score(X_train[test], Y_train[test])\n",
    "    scores_logistic.append(score_logistic)\n",
    "    print(score_logistic)\n",
    "print(\"Average accuracy using logistic regression is: \", np.mean(np.array(scores_logistic)))"
   ]
  },
  {
   "cell_type": "code",
   "execution_count": 43,
   "metadata": {
    "collapsed": true
   },
   "outputs": [],
   "source": [
    "# (g)\n",
    "\n",
    "cls = linear_model.LogisticRegression()\n",
    "predict = cls.fit(X_train, Y_train).predict(X_test)\n",
    "final = pd.Series(predict)\n",
    "result = pd.DataFrame(df_test.id)\n",
    "result[\"cuisine\"] = final\n",
    "result.to_csv(\"/Desktop/cooking.csv\", index = False)"
   ]
  },
  {
   "cell_type": "code",
   "execution_count": null,
   "metadata": {
    "collapsed": true
   },
   "outputs": [],
   "source": []
  }
 ],
 "metadata": {
  "kernelspec": {
   "display_name": "Python 2",
   "language": "python",
   "name": "python2"
  },
  "language_info": {
   "codemirror_mode": {
    "name": "ipython",
    "version": 2
   },
   "file_extension": ".py",
   "mimetype": "text/x-python",
   "name": "python",
   "nbconvert_exporter": "python",
   "pygments_lexer": "ipython2",
   "version": "2.7.13"
  }
 },
 "nbformat": 4,
 "nbformat_minor": 2
}
